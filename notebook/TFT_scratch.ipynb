{
 "cells": [
  {
   "cell_type": "code",
   "execution_count": 1,
   "metadata": {
    "metadata": {}
   },
   "outputs": [],
   "source": [
    "\n",
    "import pandas as pd\n",
    "import numpy as np\n",
    "import matplotlib.pyplot as plt\n",
    "import seaborn as sns\n",
    "import torch\n",
    "import torch.nn as nn\n",
    "import torch.optim as optim\n",
    "import torch.nn.functional as F\n",
    "from datetime import datetime\n",
    "\n",
    "import os\n",
    "import sys\n",
    "cur_dir = os.path.dirname(os.path.abspath(\"__file__\"))  # Gets the current notebook directory\n",
    "src_dir = os.path.join(cur_dir, '../')  # Constructs the path to the 'src' directory\n",
    "# Add the 'src' directory to sys.path\n",
    "if src_dir not in sys.path:\n",
    "    sys.path.append(src_dir)\n",
    "\n",
    "from src.constant import *\n",
    "from tqdm.notebook import tqdm\n",
    "\n",
    "from src.MyDataset import MyDataset\n",
    "from src.TemporalFusionTransformer import TemporalFusionTransformer"
   ]
  },
  {
   "cell_type": "code",
   "execution_count": 2,
   "metadata": {
    "metadata": {}
   },
   "outputs": [],
   "source": [
    "import torch.utils\n",
    "import torch.utils.data\n",
    "\n",
    "\n",
    "lookback = 30\n",
    "future_steps = 40\n",
    "dir = '../data/PandasData/Sampled/'\n",
    "ds = MyDataset(lookback=lookback)\n",
    "train_batch_size = 16\n",
    "test_batch_size = 16\n",
    "\n",
    "def process_data(df_dir : str, target_freq : int = 10):\n",
    "    df: pd.DataFrame = pd.read_pickle(df_dir)\n",
    "    df.dropna(inplace=True, how='any')\n",
    "    f_per_sec = df.groupby('TimestampID').count().mean().mean()\n",
    "    if f_per_sec < target_freq:\n",
    "        raise ValueError('The frequency of the data is lower than the target frequency')\n",
    "    elif int(f_per_sec) == target_freq:\n",
    "        pass\n",
    "    else:\n",
    "        resample_ratio = int(f_per_sec/target_freq)\n",
    "        df = df.iloc[::resample_ratio, :]\n",
    "    # # for origin\n",
    "    for drop_column in ['Confidence', 'Timestamp', 'TimestampID', \n",
    "                          'DatapointID', 'PID', 'SCN', 'U_X', 'U_Y', 'U_Z', \n",
    "                          'AGV_Z', 'User_Z', 'GazeOrigin_Z', 'User_Pitch', 'User_Yaw', 'User_Roll', \n",
    "                          'EyeTarget']:\n",
    "        df = df.drop(columns=[drop_column], errors='ignore')\n",
    "\n",
    "    target_columns = ['User_X', 'User_Y']\n",
    "    # Reorder columns\n",
    "    new_columns = target_columns + [col for col in df.columns if col not in target_columns]\n",
    "    df = df[new_columns]\n",
    "\n",
    "    return df\n",
    "\n",
    "for file in os.listdir(dir):\n",
    "    if file.endswith('.pkl'):\n",
    "        df = process_data(dir+file)\n",
    "        ds.read_data(df)\n"
   ]
  },
  {
   "cell_type": "markdown",
   "metadata": {},
   "source": [
    "### Optional: shuffle the dataset"
   ]
  },
  {
   "cell_type": "code",
   "execution_count": 3,
   "metadata": {},
   "outputs": [],
   "source": [
    "# import random\n",
    "# random.shuffle(ds.dataset)"
   ]
  },
  {
   "cell_type": "code",
   "execution_count": 4,
   "metadata": {
    "metadata": {}
   },
   "outputs": [
    {
     "name": "stdout",
     "output_type": "stream",
     "text": [
      "columns : Index(['User_X', 'User_Y', 'AGV_distance_X', 'AGV_distance_Y', 'AGV_speed_X',\n",
      "       'AGV_speed_Y', 'AGV_speed', 'User_speed_X', 'User_speed_Y',\n",
      "       'User_speed', 'User_velocity_X', 'User_velocity_Y', 'Wait_time',\n",
      "       'intent_to_cross', 'Gazing_station', 'possible_interaction',\n",
      "       'facing_along_sidewalk', 'facing_to_road', 'On_sidewalks', 'On_road',\n",
      "       'closest_station', 'distance_to_closest_station',\n",
      "       'distance_to_closest_station_X', 'distance_to_closest_station_Y',\n",
      "       'looking_at_AGV', 'start_station_X', 'start_station_Y', 'end_station_X',\n",
      "       'end_station_Y', 'distance_from_start_station_X',\n",
      "       'distance_from_start_station_Y', 'distance_from_end_station_X',\n",
      "       'distance_from_end_station_Y', 'facing_start_station',\n",
      "       'facing_end_station', 'GazeDirection_X', 'GazeDirection_Y',\n",
      "       'GazeDirection_Z', 'AGV_X', 'AGV_Y', 'AGV_name',\n",
      "       'looking_at_closest_station', 'rolling_avg'],\n",
      "      dtype='object') \n",
      "feature_dim : 32\n"
     ]
    }
   ],
   "source": [
    "stats_dict = {'mean': 0, 'std': 0, 'min': 0, 'max': 0}\n",
    "stats_dict = ds.normalize_dataset()\n",
    "ds.generate_data(future_steps=future_steps)\n",
    "\n",
    "train:torch.utils.data.DataLoader\n",
    "test:torch.utils.data.DataLoader\n",
    "\n",
    "train, test = ds.split_data(frac=0.9, shuffle=True, train_batch_size=train_batch_size, test_batch_size=test_batch_size)\n",
    "\n",
    "\n",
    "feature_dim = ds.feature_dim\n",
    "print(f\"columns : {df.columns} \\nfeature_dim : {feature_dim}\")"
   ]
  },
  {
   "cell_type": "code",
   "execution_count": 5,
   "metadata": {
    "metadata": {}
   },
   "outputs": [
    {
     "name": "stdout",
     "output_type": "stream",
     "text": [
      "torch.Size([16, 30, 32]) torch.Size([16, 40, 32])\n",
      "4127 459\n"
     ]
    }
   ],
   "source": [
    "for i, (X, y) in enumerate(train):\n",
    "    print(X.shape, y.shape)\n",
    "    break\n",
    "\n",
    "print(len(train), len(test))"
   ]
  },
  {
   "cell_type": "code",
   "execution_count": 67,
   "metadata": {
    "metadata": {}
   },
   "outputs": [
    {
     "name": "stdout",
     "output_type": "stream",
     "text": [
      "Using cuda\n"
     ]
    },
    {
     "data": {
      "text/plain": [
       "EnhancedTFT(\n",
       "  (vqvae): VQVAE(\n",
       "    (encoder): VQVAEEncoder(\n",
       "      (fc1): Linear(in_features=32, out_features=512, bias=True)\n",
       "      (fc2): Linear(in_features=512, out_features=128, bias=True)\n",
       "    )\n",
       "    (quantizer): VectorQuantizer(\n",
       "      (embedding): Embedding(16, 128)\n",
       "    )\n",
       "    (decoder): VQVAEDecoder(\n",
       "      (fc1): Linear(in_features=128, out_features=512, bias=True)\n",
       "      (fc2): Linear(in_features=512, out_features=32, bias=True)\n",
       "    )\n",
       "  )\n",
       "  (tft): TemporalFusionTransformer(\n",
       "    (encoder_grn): GatedResidualNetwork(\n",
       "      (layers): ModuleList(\n",
       "        (0): Linear(in_features=160, out_features=128, bias=True)\n",
       "        (1-2): 2 x Linear(in_features=128, out_features=128, bias=True)\n",
       "      )\n",
       "      (norms): ModuleList(\n",
       "        (0-2): 3 x LayerNorm((128,), eps=1e-05, elementwise_affine=True)\n",
       "      )\n",
       "      (dropout): Dropout(p=0.1, inplace=False)\n",
       "      (fc2): Linear(in_features=128, out_features=128, bias=True)\n",
       "      (fc3): Linear(in_features=160, out_features=128, bias=True)\n",
       "      (gate): Linear(in_features=128, out_features=128, bias=True)\n",
       "    )\n",
       "    (transformer_block): TransformerBlock(\n",
       "      (attention): MultiheadAttention(\n",
       "        (out_proj): NonDynamicallyQuantizableLinear(in_features=128, out_features=128, bias=True)\n",
       "      )\n",
       "      (norm1): LayerNorm((128,), eps=1e-05, elementwise_affine=True)\n",
       "      (norm2): LayerNorm((128,), eps=1e-05, elementwise_affine=True)\n",
       "      (dropout): Dropout(p=0.1, inplace=False)\n",
       "      (feed_forward): Sequential(\n",
       "        (0): Linear(in_features=128, out_features=512, bias=True)\n",
       "        (1): ReLU()\n",
       "        (2): Dropout(p=0.1, inplace=False)\n",
       "        (3): Linear(in_features=512, out_features=128, bias=True)\n",
       "      )\n",
       "    )\n",
       "    (decoder_grn): GatedResidualNetwork(\n",
       "      (layers): ModuleList(\n",
       "        (0-2): 3 x Linear(in_features=128, out_features=128, bias=True)\n",
       "      )\n",
       "      (norms): ModuleList(\n",
       "        (0-2): 3 x LayerNorm((128,), eps=1e-05, elementwise_affine=True)\n",
       "      )\n",
       "      (dropout): Dropout(p=0.1, inplace=False)\n",
       "      (fc2): Linear(in_features=128, out_features=128, bias=True)\n",
       "      (fc3): Linear(in_features=128, out_features=128, bias=True)\n",
       "      (gate): Linear(in_features=128, out_features=128, bias=True)\n",
       "    )\n",
       "    (final_linear): Linear(in_features=128, out_features=80, bias=True)\n",
       "  )\n",
       ")"
      ]
     },
     "execution_count": 67,
     "metadata": {},
     "output_type": "execute_result"
    }
   ],
   "source": [
    "device = torch.device('cuda' if torch.cuda.is_available() else 'cpu')\n",
    "print(f\"Using {device}\")\n",
    "\n",
    "# model = TemporalFusionTransformer(num_features=feature_dim, \n",
    "#                                   num_hidden=128, num_outputs=2, \n",
    "#                                   num_steps=future_steps)\n",
    "# optimizer = optim.AdamW(model.parameters(), lr=2e-4)\n",
    "# model.to(device)\n",
    "\n",
    "from src.VQVAE import VQVAE\n",
    "from typing import Optional\n",
    "\n",
    "\n",
    "vqvae = VQVAE(input_dim=feature_dim, hidden_dim=512, num_embeddings=train_batch_size, embedding_dim=128, commitment_cost=0.25)\n",
    "\n",
    "class EnhancedTFT(nn.Module):\n",
    "    def __init__(self, num_features, num_hidden, num_outputs, num_steps, vqvae:VQVAE):\n",
    "        super(EnhancedTFT, self).__init__()\n",
    "        self.vqvae = vqvae\n",
    "        self.tft = TemporalFusionTransformer(num_features + vqvae.encoder.fc2.out_features, num_hidden, num_outputs, num_steps)\n",
    "\n",
    "    def forward(self, x, mask: Optional[torch.Tensor]=None):\n",
    "        x_recon, vq_loss, perplexity, embedding = self.vqvae(x)\n",
    "        x_enhanced = torch.cat((x, embedding), dim=-1)\n",
    "        return self.tft(x_enhanced, mask), vq_loss, perplexity\n",
    "\n",
    "model = EnhancedTFT(num_features=feature_dim, num_hidden=128, num_outputs=2, num_steps=future_steps, vqvae=vqvae)\n",
    "optimizer = optim.AdamW(model.parameters(), lr=2e-4)\n",
    "model.to(device)\n"
   ]
  },
  {
   "cell_type": "markdown",
   "metadata": {},
   "source": [
    "### Customized Loss Function"
   ]
  },
  {
   "cell_type": "code",
   "execution_count": 51,
   "metadata": {},
   "outputs": [
    {
     "data": {
      "text/plain": [
       "<module 'src.VQVAE' from '/home/shaoze/Documents/Boeing/Boeing-Trajectory-Prediction/notebook/../src/VQVAE.py'>"
      ]
     },
     "execution_count": 51,
     "metadata": {},
     "output_type": "execute_result"
    }
   ],
   "source": [
    "from importlib import reload\n",
    "reload(sys.modules['src.VQVAE'])"
   ]
  },
  {
   "cell_type": "code",
   "execution_count": 12,
   "metadata": {},
   "outputs": [],
   "source": [
    "\n",
    "class DecayLoss(nn.Module):\n",
    "    def __init__(self, num_steps, baseline_loss_fn=nn.L1Loss()):\n",
    "        super(DecayLoss, self).__init__()\n",
    "        # Weight decreases as we move further into the future\n",
    "        self.weights = torch.linspace(1.0, 1.0, num_steps)\n",
    "        self.baseline_loss_fn = baseline_loss_fn\n",
    "        \n",
    "\n",
    "    def forward(self, predictions, targets):\n",
    "        loss = 0\n",
    "        for i in range(predictions.shape[1]):\n",
    "            loss += self.weights[i] * self.baseline_loss_fn(predictions[:, i], targets[:, i])\n",
    "        return loss\n",
    "    \n",
    "baseline_loss_fn = nn.L1Loss() #nn.MSELoss()\n",
    "loss_fn = DecayLoss(future_steps, baseline_loss_fn=baseline_loss_fn)"
   ]
  },
  {
   "cell_type": "markdown",
   "metadata": {},
   "source": [
    "### Trainer with early stop"
   ]
  },
  {
   "cell_type": "code",
   "execution_count": 61,
   "metadata": {},
   "outputs": [
    {
     "name": "stdout",
     "output_type": "stream",
     "text": [
      "Saving model at ../model/TFT/Aug02_15-22-10\n"
     ]
    },
    {
     "data": {
      "application/vnd.jupyter.widget-view+json": {
       "model_id": "92c5f0e877eb4c0db10073ab418ab113",
       "version_major": 2,
       "version_minor": 0
      },
      "text/plain": [
       "  0%|          | 0/4127 [00:00<?, ?it/s]"
      ]
     },
     "metadata": {},
     "output_type": "display_data"
    },
    {
     "name": "stdout",
     "output_type": "stream",
     "text": [
      "Steps 500: test RMSE 0.8381, moving average RMSE 0.8381\n",
      "Steps 1000: test RMSE 0.7801, moving average RMSE 0.8033\n",
      "Steps 1500: test RMSE 0.7308, moving average RMSE 0.7598\n",
      "Steps 2000: test RMSE 0.7579, moving average RMSE 0.7587\n",
      "Steps 2500: test RMSE 0.7227, moving average RMSE 0.7371\n",
      "Steps 3000: test RMSE 0.7295, moving average RMSE 0.7325\n",
      "Steps 3500: test RMSE 0.7030, moving average RMSE 0.7148\n",
      "Steps 4000: test RMSE 0.6911, moving average RMSE 0.7006\n"
     ]
    },
    {
     "data": {
      "application/vnd.jupyter.widget-view+json": {
       "model_id": "b33b7de7a31842828edf29c94703cc4f",
       "version_major": 2,
       "version_minor": 0
      },
      "text/plain": [
       "  0%|          | 0/4127 [00:00<?, ?it/s]"
      ]
     },
     "metadata": {},
     "output_type": "display_data"
    },
    {
     "name": "stdout",
     "output_type": "stream",
     "text": [
      "Steps 4500: test RMSE 0.6823, moving average RMSE 0.6896\n",
      "Steps 5000: test RMSE 0.6921, moving average RMSE 0.6911\n",
      "Steps 5500: test RMSE 0.6893, moving average RMSE 0.6900\n",
      "Steps 6000: test RMSE 0.6638, moving average RMSE 0.6743\n",
      "Steps 6500: test RMSE 0.6941, moving average RMSE 0.6862\n",
      "Steps 7000: test RMSE 0.6844, moving average RMSE 0.6851\n",
      "Steps 7500: test RMSE 0.6684, moving average RMSE 0.6750\n",
      "Steps 8000: test RMSE 0.6977, moving average RMSE 0.6886\n"
     ]
    },
    {
     "data": {
      "application/vnd.jupyter.widget-view+json": {
       "model_id": "9659477531624384b8b27ea1d10b6b6b",
       "version_major": 2,
       "version_minor": 0
      },
      "text/plain": [
       "  0%|          | 0/4127 [00:00<?, ?it/s]"
      ]
     },
     "metadata": {},
     "output_type": "display_data"
    },
    {
     "name": "stdout",
     "output_type": "stream",
     "text": [
      "Steps 8500: test RMSE 0.6560, moving average RMSE 0.6691\n",
      "Steps 9000: test RMSE 0.6746, moving average RMSE 0.6724\n",
      "Steps 9500: test RMSE 0.6833, moving average RMSE 0.6789\n",
      "Model saved at ../model/TFT/Aug02_15-22-10/model_10000.pt\n",
      "Steps 10000: test RMSE 0.6676, moving average RMSE 0.6721\n",
      "Steps 10500: test RMSE 0.6746, moving average RMSE 0.6736\n",
      "Steps 11000: test RMSE 0.6886, moving average RMSE 0.6826\n",
      "Steps 11500: test RMSE 0.6701, moving average RMSE 0.6751\n",
      "Steps 12000: test RMSE 0.6669, moving average RMSE 0.6702\n"
     ]
    },
    {
     "data": {
      "application/vnd.jupyter.widget-view+json": {
       "model_id": "0114780c34284917af03495dacf83f2e",
       "version_major": 2,
       "version_minor": 0
      },
      "text/plain": [
       "  0%|          | 0/4127 [00:00<?, ?it/s]"
      ]
     },
     "metadata": {},
     "output_type": "display_data"
    },
    {
     "name": "stdout",
     "output_type": "stream",
     "text": [
      "Steps 12500: test RMSE 0.6595, moving average RMSE 0.6638\n",
      "Steps 13000: test RMSE 0.6651, moving average RMSE 0.6646\n",
      "Steps 13500: test RMSE 0.6882, moving average RMSE 0.6788\n",
      "Steps 14000: test RMSE 0.6729, moving average RMSE 0.6752\n",
      "Steps 14500: test RMSE 0.6480, moving average RMSE 0.6589\n",
      "Steps 15000: test RMSE 0.6791, moving average RMSE 0.6710\n",
      "Steps 15500: test RMSE 0.6493, moving average RMSE 0.6580\n",
      "Steps 16000: test RMSE 0.6608, moving average RMSE 0.6597\n",
      "Steps 16500: test RMSE 0.6694, moving average RMSE 0.6655\n"
     ]
    },
    {
     "data": {
      "application/vnd.jupyter.widget-view+json": {
       "model_id": "334bd8a3ddd8453db7074034a09c8b58",
       "version_major": 2,
       "version_minor": 0
      },
      "text/plain": [
       "  0%|          | 0/4127 [00:00<?, ?it/s]"
      ]
     },
     "metadata": {},
     "output_type": "display_data"
    },
    {
     "name": "stdout",
     "output_type": "stream",
     "text": [
      "Steps 17000: test RMSE 0.6778, moving average RMSE 0.6729\n",
      "Steps 17500: test RMSE 0.6625, moving average RMSE 0.6667\n",
      "Steps 18000: test RMSE 0.6816, moving average RMSE 0.6756\n",
      "Steps 18500: test RMSE 0.6803, moving average RMSE 0.6784\n",
      "Steps 19000: test RMSE 0.6639, moving average RMSE 0.6697\n",
      "Steps 19500: test RMSE 0.6853, moving average RMSE 0.6791\n",
      "Model saved at ../model/TFT/Aug02_15-22-10/model_20000.pt\n",
      "Steps 20000: test RMSE 0.6650, moving average RMSE 0.6706\n",
      "Steps 20500: test RMSE 0.6632, moving average RMSE 0.6662\n"
     ]
    },
    {
     "data": {
      "application/vnd.jupyter.widget-view+json": {
       "model_id": "716b48bcf5bf41f38a81f7d2023ab7d1",
       "version_major": 2,
       "version_minor": 0
      },
      "text/plain": [
       "  0%|          | 0/4127 [00:00<?, ?it/s]"
      ]
     },
     "metadata": {},
     "output_type": "display_data"
    },
    {
     "name": "stdout",
     "output_type": "stream",
     "text": [
      "Steps 21000: test RMSE 0.6889, moving average RMSE 0.6798\n",
      "Steps 21500: test RMSE 0.6681, moving average RMSE 0.6728\n",
      "Steps 22000: test RMSE 0.6689, moving average RMSE 0.6705\n",
      "Steps 22500: test RMSE 0.6746, moving average RMSE 0.6729\n",
      "Steps 23000: test RMSE 0.6671, moving average RMSE 0.6695\n",
      "Steps 23500: test RMSE 0.6833, moving average RMSE 0.6778\n",
      "Steps 24000: test RMSE 0.6864, moving average RMSE 0.6830\n",
      "Steps 24500: test RMSE 0.6718, moving average RMSE 0.6763\n"
     ]
    },
    {
     "data": {
      "application/vnd.jupyter.widget-view+json": {
       "model_id": "cd1a4bead7574a5a8c5de27dda0300c4",
       "version_major": 2,
       "version_minor": 0
      },
      "text/plain": [
       "  0%|          | 0/4127 [00:00<?, ?it/s]"
      ]
     },
     "metadata": {},
     "output_type": "display_data"
    },
    {
     "name": "stdout",
     "output_type": "stream",
     "text": [
      "Steps 25000: test RMSE 0.6903, moving average RMSE 0.6847\n",
      "Steps 25500: test RMSE 0.6641, moving average RMSE 0.6723\n",
      "Steps 26000: test RMSE 0.6638, moving average RMSE 0.6672\n",
      "Stopping early at epoch 7, step 1238\n",
      "Training complete.\n"
     ]
    }
   ],
   "source": [
    "\n",
    "# Parameters\n",
    "n_epochs = 10\n",
    "eval_step = 500\n",
    "save_every = 10000\n",
    "patience = 15  # Number of evaluations to wait for improvement\n",
    "cooldown = 6  # Evaluations to wait after an improvement before counting non-improvements\n",
    "smooth_factor = 0.6  # Smoothing factor for moving average\n",
    "\n",
    "# Setup\n",
    "train_all = len(train)\n",
    "model_name = \"TFT\"\n",
    "loss_all = []\n",
    "best_test_rmse = float('inf')\n",
    "early_stopping_counter = 0\n",
    "cooldown_counter = cooldown\n",
    "\n",
    "now = datetime.now()\n",
    "folder_name = now.strftime(\"%b%d_%H-%M-%S\")\n",
    "os.makedirs(f'../model/{model_name}/{folder_name}', exist_ok=True)\n",
    "print(f\"Saving model at ../model/{model_name}/{folder_name}\")\n",
    "\n",
    "# Initialize moving average\n",
    "moving_avg_test_rmse = None\n",
    "\n",
    "# Training loop\n",
    "for epoch in range(n_epochs):\n",
    "    model.train()\n",
    "    for step, (X_batch, y_batch) in tqdm(enumerate(train), total=train_all):\n",
    "        X_batch = X_batch.float().to(device)\n",
    "        y_batch = y_batch.float().to(device)\n",
    "        \n",
    "        current_pos_input = X_batch[:, -1, :2].clone().unsqueeze(1).repeat(1, lookback, 1)\n",
    "        current_pos_output = X_batch[:, -1, :2].clone().unsqueeze(1).repeat(1, future_steps, 1)\n",
    "        X_batch[:, :, :2] = X_batch[:, :, :2] - current_pos_input\n",
    "        y_batch[:, :, :2] = y_batch[:, :, :2] - current_pos_output\n",
    "        optimizer.zero_grad()\n",
    "        \n",
    "        y_pred, vq_loss, perplexity = model(X_batch)\n",
    "        loss = loss_fn(y_pred[:, :future_steps, :2], y_batch[:, :future_steps, :2])\n",
    "        loss_all.append(loss.item())\n",
    "        \n",
    "        # add vq_loss\n",
    "        loss += 10 * vq_loss\n",
    "        loss.backward()\n",
    "        torch.nn.utils.clip_grad_norm_(model.parameters(), max_norm=1.0)\n",
    "        optimizer.step()\n",
    "        \n",
    "        # Save model\n",
    "        if (epoch * train_all + step + 1) % save_every == 0:\n",
    "            save_path = f\"../model/{model_name}/{folder_name}/model_{epoch * train_all + step + 1}.pt\"\n",
    "            torch.save(model.state_dict(), save_path)\n",
    "            print(f\"Model saved at {save_path}\")\n",
    "\n",
    "        # Validation and early stopping\n",
    "        if (epoch * train_all + step + 1) % eval_step == 0:\n",
    "            model.eval()\n",
    "            test_rmse_all = []\n",
    "            with torch.no_grad():\n",
    "                for X_test_batch, y_test_batch in test:\n",
    "                    X_test_batch = X_test_batch.float().to(device)\n",
    "                    y_test_batch = y_test_batch.float().to(device)\n",
    "                    \n",
    "                    current_pos_input = X_test_batch[:, -1, :2].clone().unsqueeze(1).repeat(1, lookback, 1)\n",
    "                    current_pos_output = X_test_batch[:, -1, :2].clone().unsqueeze(1).repeat(1, future_steps, 1)\n",
    "                    X_test_batch[:, :, :2] = X_test_batch[:, :, :2] - current_pos_input\n",
    "                    y_test_batch[:, :, :2] = y_test_batch[:, :, :2] - current_pos_output\n",
    "                    \n",
    "                    y_pred_test, vq_loss, perplexity = model(X_test_batch)\n",
    "                    loss_test = loss_fn(y_pred_test[:, :future_steps, :2], y_test_batch[:, :future_steps, :2])\n",
    "                    test_rmse = torch.sqrt(loss_test)\n",
    "                    if not torch.isnan(test_rmse):\n",
    "                        test_rmse_all.append(test_rmse.item())\n",
    "            \n",
    "            current_rmse = sum(test_rmse_all) / len(test_rmse_all)\n",
    "            if moving_avg_test_rmse is None:\n",
    "                moving_avg_test_rmse = current_rmse\n",
    "            else:\n",
    "                moving_avg_test_rmse = smooth_factor * current_rmse + (1 - smooth_factor) * moving_avg_test_rmse\n",
    "\n",
    "            print(f\"Steps {epoch * train_all + step + 1}: test RMSE {current_rmse:.4f}, moving average RMSE {moving_avg_test_rmse:.4f}\")\n",
    "\n",
    "            # Check if the moving average RMSE is better; if not, increment counter\n",
    "            if moving_avg_test_rmse < best_test_rmse:\n",
    "                best_test_rmse = moving_avg_test_rmse\n",
    "                early_stopping_counter = 0  # Reset counter\n",
    "                cooldown_counter = cooldown  # Reset cooldown\n",
    "                # Optionally save the best model\n",
    "                best_model_path = f\"../model/{model_name}/{folder_name}/best_model.pt\"\n",
    "                torch.save(model.state_dict(), best_model_path)\n",
    "            else:\n",
    "                if cooldown_counter > 0:\n",
    "                    cooldown_counter -= 1\n",
    "                else:\n",
    "                    early_stopping_counter += 1\n",
    "\n",
    "            if early_stopping_counter >= patience:\n",
    "                print(f\"Stopping early at epoch {epoch+1}, step {step+1}\")\n",
    "                break\n",
    "\n",
    "            model.train()\n",
    "        \n",
    "    if early_stopping_counter >= patience:\n",
    "        break\n",
    "\n",
    "print(\"Training complete.\")"
   ]
  },
  {
   "cell_type": "code",
   "execution_count": 63,
   "metadata": {},
   "outputs": [
    {
     "data": {
      "application/vnd.jupyter.widget-view+json": {
       "model_id": "52ff24c568934c6e8b2645b939a40b44",
       "version_major": 2,
       "version_minor": 0
      },
      "text/plain": [
       "  0%|          | 0/459 [00:00<?, ?it/s]"
      ]
     },
     "metadata": {},
     "output_type": "display_data"
    }
   ],
   "source": [
    "validation_step = future_steps\n",
    "\n",
    "predictions = []\n",
    "truths = []\n",
    "\n",
    "with torch.no_grad():\n",
    "    model.eval()\n",
    "    all_test = len(test)\n",
    "    test_rmse_all = []\n",
    "    for X_test_batch, y_test_batch in tqdm(test):\n",
    "        X_test_batch = X_test_batch.float().to(device)\n",
    "        y_test_batch = y_test_batch.float().to(device)\n",
    "        \n",
    "        current_pos_input = X_test_batch[:, -1, :2].clone().unsqueeze(1).repeat(1, lookback, 1)\n",
    "        current_pos_output = X_test_batch[:, -1, :2].clone().unsqueeze(1).repeat(1, future_steps, 1)\n",
    "        X_test_batch[:, :, :2] = X_test_batch[:, :, :2] - current_pos_input\n",
    "        y_test_batch[:, :, :2] = y_test_batch[:, :, :2] - current_pos_output\n",
    "        \n",
    "        y_pred, vq_loss, perplexity = model(X_test_batch)\n",
    "        predictions.append(y_pred[:, :validation_step, :2] + current_pos_output)\n",
    "        truths.append(y_test_batch[:, :validation_step, :2] + current_pos_output)\n",
    "        \n",
    "predictions = torch.cat(predictions, dim=0)\n",
    "truths = torch.cat(truths, dim=0)"
   ]
  },
  {
   "cell_type": "code",
   "execution_count": 64,
   "metadata": {},
   "outputs": [],
   "source": [
    "# reverse normalization\n",
    "normalize_dict = stats_dict\n",
    "\n",
    "for idx, key_ in enumerate([\"User_X\", \"User_Y\"]):\n",
    "    predictions[:, :, idx] = predictions[:, :, idx] * (normalize_dict['max'][key_] - normalize_dict['min'][key_]) + normalize_dict['min'][key_]\n",
    "    predictions[:, :, idx] = predictions[:, :, idx] * normalize_dict['std'][key_] + normalize_dict['mean'][key_]\n",
    "    truths[:, :, idx] = truths[:, :, idx] * (normalize_dict['max'][key_] - normalize_dict['min'][key_]) + normalize_dict['min'][key_]\n",
    "    truths[:, :, idx] = truths[:, :, idx] * normalize_dict['std'][key_] + normalize_dict['mean'][key_]"
   ]
  },
  {
   "cell_type": "code",
   "execution_count": 68,
   "metadata": {},
   "outputs": [
    {
     "data": {
      "image/png": "[encoded data removed]",
      "text/plain": [
       "<Figure size 640x480 with 1 Axes>"
      ]
     },
     "metadata": {},
     "output_type": "display_data"
    }
   ],
   "source": [
    "criterion = nn.MSELoss(reduction=\"none\")\n",
    "\n",
    "steps = []\n",
    "loss = []\n",
    "max_loss = []\n",
    "for step in range(1, future_steps+1):\n",
    "    raw_rmse_loss = criterion(predictions[:, :step, :], truths[:, :step, :])\n",
    "    raw_rmse_loss = torch.sqrt(torch.sum(raw_rmse_loss, dim=-1))\n",
    "    mean_rmse_loss = raw_rmse_loss.mean(dim=-1)\n",
    "    max_rmse_loss = raw_rmse_loss.max(dim=-1).values\n",
    "    loss.append(mean_rmse_loss)\n",
    "    max_loss.append(max_rmse_loss)\n",
    "    steps.extend([step] * len(mean_rmse_loss))\n",
    "    \n",
    "max_loss = torch.cat(max_loss).cpu().numpy()\n",
    "loss = torch.cat(loss).cpu().numpy()\n",
    "\n",
    "df = pd.DataFrame({'Second (s)': steps, 'loss': loss})\n",
    "df1 = pd.DataFrame({'Second (s)': steps, 'loss': max_loss})\n",
    "df['type'] = 'mean'\n",
    "df1['type'] = 'max'\n",
    "df = pd.concat([df, df1])\n",
    "\n",
    "\n",
    "df['RMSE Error (m)'] = df['loss'] / 100 # to meters\n",
    "df['Second (s)'] = df['Second (s)'] / 10 # to seconds\n",
    "sns.lineplot(data = df, x='Second (s)', y='RMSE Error (m)', hue='type',) #  errorbar=('sd', 1),\n",
    "plt.savefig('../figure/TFT_manual_shuffle_relative_vqvae.png')\n",
    "plt.show()"
   ]
  },
  {
   "cell_type": "code",
   "execution_count": 72,
   "metadata": {},
   "outputs": [
    {
     "data": {
      "text/html": [
       "<div>\n",
       "<style scoped>\n",
       "    .dataframe tbody tr th:only-of-type {\n",
       "        vertical-align: middle;\n",
       "    }\n",
       "\n",
       "    .dataframe tbody tr th {\n",
       "        vertical-align: top;\n",
       "    }\n",
       "\n",
       "    .dataframe thead th {\n",
       "        text-align: right;\n",
       "    }\n",
       "</style>\n",
       "<table border=\"1\" class=\"dataframe\">\n",
       "  <thead>\n",
       "    <tr style=\"text-align: right;\">\n",
       "      <th>type</th>\n",
       "      <th>max</th>\n",
       "      <th>mean</th>\n",
       "    </tr>\n",
       "    <tr>\n",
       "      <th>Second (s)</th>\n",
       "      <th></th>\n",
       "      <th></th>\n",
       "    </tr>\n",
       "  </thead>\n",
       "  <tbody>\n",
       "    <tr>\n",
       "      <th>3.1</th>\n",
       "      <td>1.568463</td>\n",
       "      <td>0.762493</td>\n",
       "    </tr>\n",
       "    <tr>\n",
       "      <th>3.2</th>\n",
       "      <td>1.615523</td>\n",
       "      <td>0.784586</td>\n",
       "    </tr>\n",
       "    <tr>\n",
       "      <th>3.3</th>\n",
       "      <td>1.654384</td>\n",
       "      <td>0.806142</td>\n",
       "    </tr>\n",
       "    <tr>\n",
       "      <th>3.4</th>\n",
       "      <td>1.703059</td>\n",
       "      <td>0.827840</td>\n",
       "    </tr>\n",
       "    <tr>\n",
       "      <th>3.5</th>\n",
       "      <td>1.740620</td>\n",
       "      <td>0.849404</td>\n",
       "    </tr>\n",
       "    <tr>\n",
       "      <th>3.6</th>\n",
       "      <td>1.788578</td>\n",
       "      <td>0.870909</td>\n",
       "    </tr>\n",
       "    <tr>\n",
       "      <th>3.7</th>\n",
       "      <td>1.830426</td>\n",
       "      <td>0.892296</td>\n",
       "    </tr>\n",
       "    <tr>\n",
       "      <th>3.8</th>\n",
       "      <td>1.883951</td>\n",
       "      <td>0.913907</td>\n",
       "    </tr>\n",
       "    <tr>\n",
       "      <th>3.9</th>\n",
       "      <td>1.928096</td>\n",
       "      <td>0.935072</td>\n",
       "    </tr>\n",
       "    <tr>\n",
       "      <th>4.0</th>\n",
       "      <td>1.979885</td>\n",
       "      <td>0.956781</td>\n",
       "    </tr>\n",
       "  </tbody>\n",
       "</table>\n",
       "</div>"
      ],
      "text/plain": [
       "type             max      mean\n",
       "Second (s)                    \n",
       "3.1         1.568463  0.762493\n",
       "3.2         1.615523  0.784586\n",
       "3.3         1.654384  0.806142\n",
       "3.4         1.703059  0.827840\n",
       "3.5         1.740620  0.849404\n",
       "3.6         1.788578  0.870909\n",
       "3.7         1.830426  0.892296\n",
       "3.8         1.883951  0.913907\n",
       "3.9         1.928096  0.935072\n",
       "4.0         1.979885  0.956781"
      ]
     },
     "execution_count": 72,
     "metadata": {},
     "output_type": "execute_result"
    }
   ],
   "source": [
    "df.groupby(by=['Second (s)', 'type']).mean().unstack()['RMSE Error (m)'].tail(10)"
   ]
  },
  {
   "cell_type": "markdown",
   "metadata": {},
   "source": [
    "### Export JIT Model"
   ]
  },
  {
   "cell_type": "code",
   "execution_count": null,
   "metadata": {},
   "outputs": [],
   "source": [
    "EXPORT_MODEL = False\n",
    "\n",
    "# model.load_state_dict(torch.load(\"/home/shaoze/Documents/Boeing/Boeing-Trajectory-Prediction/model/Jul09_20-37-37/model_40000.pt\"))\n",
    "if EXPORT_MODEL:\n",
    "    model.eval()\n",
    "    script_module = torch.jit.script(model)\n",
    "    os.makedirs(f'../model/exported/', exist_ok=True)\n",
    "    script_module.save(f\"../exported/model.pt\")"
   ]
  },
  {
   "cell_type": "markdown",
   "metadata": {},
   "source": [
    "### Save data (for interactive visualization)"
   ]
  },
  {
   "cell_type": "code",
   "execution_count": 122,
   "metadata": {},
   "outputs": [],
   "source": [
    "# model = torch.jit.load('../exported/model.pt')\n",
    "\n",
    "test_ds = MyDataset(lookback=lookback)\n",
    "all_ds = ds.dataset\n",
    "test_ds.dataset = all_ds[len(all_ds)//10 :] # load the last 10% of the data\n",
    "X_list, y_list = test_ds.generate_data(return_list=True, future_steps=future_steps)\n"
   ]
  },
  {
   "cell_type": "code",
   "execution_count": 123,
   "metadata": {},
   "outputs": [],
   "source": [
    "from torch.utils.data import DataLoader, Dataset, TensorDataset\n",
    "\n",
    "normalize_dict = stats_dict\n",
    "pred_data = []\n",
    "truth_data = []\n",
    "input_data = []\n",
    "model.eval()\n",
    "\n",
    "for i, (X, y) in enumerate(zip(X_list, y_list)):\n",
    "    current_pos_input = X[:, -1, :2].clone().unsqueeze(1).repeat(1, lookback, 1)\n",
    "    current_pos_output = X[:, -1, :2].clone().unsqueeze(1).repeat(1, future_steps, 1).to(device)\n",
    "    X[:, :, :2] = X[:, :, :2] - current_pos_input\n",
    "\n",
    "    predictions = model(X.float().to(device))[:, :future_steps, :2]\n",
    "    predictions = predictions + current_pos_output\n",
    "    predictions = predictions.to('cpu')\n",
    "    \n",
    "    truths = y[:, :future_steps, :2]\n",
    "    X[:, :, :2] = X[:, :, :2] + current_pos_input\n",
    "    model_input = X.float().to(device)[:, :lookback, :2]\n",
    "    trajectory_id = i\n",
    "    \n",
    "    # reverse normalization\n",
    "    for idx, key_ in enumerate([\"User_X\", \"User_Y\"]):\n",
    "        predictions[:, :, idx] = predictions[:, :, idx] * (normalize_dict['max'][key_] - normalize_dict['min'][key_]) + normalize_dict['min'][key_]\n",
    "        predictions[:, :, idx] = predictions[:, :, idx] * normalize_dict['std'][key_] + normalize_dict['mean'][key_]\n",
    "        truths[:, :, idx] = truths[:, :, idx] * (normalize_dict['max'][key_] - normalize_dict['min'][key_]) + normalize_dict['min'][key_]\n",
    "        truths[:, :, idx] = truths[:, :, idx] * normalize_dict['std'][key_] + normalize_dict['mean'][key_]\n",
    "        model_input[:, :, idx] = model_input[:, :, idx] * (normalize_dict['max'][key_] - normalize_dict['min'][key_]) + normalize_dict['min'][key_]\n",
    "        model_input[:, :, idx] = model_input[:, :, idx] * normalize_dict['std'][key_] + normalize_dict['mean'][key_]\n",
    "    \n",
    "    for group_id in range(predictions.shape[0]):\n",
    "        for time_step in range(predictions.shape[1]):\n",
    "            pred_x, pred_y = predictions[group_id, time_step]\n",
    "            pred_data.append([trajectory_id, group_id, time_step, pred_x.item(), pred_y.item()])\n",
    "\n",
    "            truth_x, truth_y = truths[group_id, time_step]\n",
    "            truth_data.append([trajectory_id, group_id, time_step, truth_x.item(), truth_y.item()])\n",
    "        \n",
    "        for time_step in range(lookback):\n",
    "            input_x, input_y = model_input[group_id, time_step]\n",
    "            input_data.append([trajectory_id, group_id, time_step, input_x.item(), input_y.item()])\n",
    "            \n",
    "\n",
    "pred_df = pd.DataFrame(pred_data, columns=['trajectory_id', 'Group_ID', 'Time_Step', 'X', 'Y'])\n",
    "truth_df = pd.DataFrame(truth_data, columns=['trajectory_id', 'Group_ID', 'Time_Step', 'X', 'Y'])\n",
    "input_df = pd.DataFrame(input_data, columns=['trajectory_id', 'Group_ID', 'Time_Step', 'X', 'Y'])\n"
   ]
  },
  {
   "cell_type": "code",
   "execution_count": 124,
   "metadata": {},
   "outputs": [],
   "source": [
    "files_to_remove = [\n",
    "    \"../data/pred_tra_all.pkl\",\n",
    "    \"../data/truth_tra_all.pkl\", \n",
    "    \"../data/input_tra_all.pkl\"\n",
    "]\n",
    "\n",
    "for file_path in files_to_remove:\n",
    "    if os.path.exists(file_path):\n",
    "        os.remove(file_path)\n",
    "\n",
    "truth_df.to_pickle(\"../data/truth_tra_all.pkl\")\n",
    "pred_df.to_pickle(\"../data/pred_tra_all.pkl\")\n",
    "input_df.to_pickle(\"../data/input_tra_all.pkl\")"
   ]
  }
 ],
 "metadata": {
  "kernelspec": {
   "display_name": "pytorch",
   "language": "python",
   "name": "python3"
  },
  "language_info": {
   "codemirror_mode": {
    "name": "ipython",
    "version": 3
   },
   "file_extension": ".py",
   "mimetype": "text/x-python",
   "name": "python",
   "nbconvert_exporter": "python",
   "pygments_lexer": "ipython3",
   "version": "3.10.14"
  }
 },
 "nbformat": 4,
 "nbformat_minor": 2
}
