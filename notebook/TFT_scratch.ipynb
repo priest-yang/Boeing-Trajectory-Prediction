{
 "cells": [
  {
   "cell_type": "code",
   "execution_count": 1,
   "metadata": {
    "metadata": {}
   },
   "outputs": [],
   "source": [
    "\n",
    "import pandas as pd\n",
    "import numpy as np\n",
    "import matplotlib.pyplot as plt\n",
    "import seaborn as sns\n",
    "import torch\n",
    "import torch.nn as nn\n",
    "import torch.optim as optim\n",
    "import torch.nn.functional as F\n",
    "from datetime import datetime\n",
    "\n",
    "import os\n",
    "import sys\n",
    "cur_dir = os.path.dirname(os.path.abspath(\"__file__\"))  # Gets the current notebook directory\n",
    "src_dir = os.path.join(cur_dir, '../')  # Constructs the path to the 'src' directory\n",
    "# Add the 'src' directory to sys.path\n",
    "if src_dir not in sys.path:\n",
    "    sys.path.append(src_dir)\n",
    "\n",
    "from src.constant import *\n",
    "from tqdm.notebook import tqdm\n",
    "\n",
    "from src.MyDataset import MyDataset\n",
    "from src.TemporalFusionTransformer import TemporalFusionTransformer\n",
    "\n",
    "from src.VQVAE import VQVAE\n",
    "from typing import Optional"
   ]
  },
  {
   "cell_type": "code",
   "execution_count": 5,
   "metadata": {
    "metadata": {}
   },
   "outputs": [],
   "source": [
    "import torch.utils\n",
    "import torch.utils.data\n",
    "\n",
    "\n",
    "lookback = 30\n",
    "future_steps = 40\n",
    "dir = '../data/PandasData/Sampled/'\n",
    "ds = MyDataset(lookback=lookback)\n",
    "train_batch_size = 16\n",
    "test_batch_size = 64\n",
    "\n",
    "def process_data(df_dir : str, target_freq : int = 10):\n",
    "    df: pd.DataFrame = pd.read_pickle(df_dir)\n",
    "    \n",
    "    \n",
    "    if 'state' in df.columns:\n",
    "        states_ohe = pd.get_dummies(df['state'], prefix='state')\n",
    "        df = pd.concat([df, states_ohe], axis=1)\n",
    "        df.drop(columns=['state'], inplace=True)\n",
    "        \n",
    "    df.dropna(inplace=True, how='any')\n",
    "    f_per_sec = df.groupby('TimestampID').count().mean().mean()\n",
    "    if f_per_sec < target_freq:\n",
    "        raise ValueError('The frequency of the data is lower than the target frequency')\n",
    "    elif int(f_per_sec) == target_freq:\n",
    "        pass\n",
    "    else:\n",
    "        resample_ratio = int(f_per_sec/target_freq)\n",
    "        df = df.iloc[::resample_ratio, :]\n",
    "    # # for origin\n",
    "    for drop_column in ['Confidence', 'Timestamp', 'TimestampID', \n",
    "                          'DatapointID', 'PID', 'SCN', 'U_X', 'U_Y', 'U_Z', \n",
    "                          'AGV_Z', 'User_Z', 'GazeOrigin_Z', 'User_Pitch', 'User_Yaw', 'User_Roll', \n",
    "                          'EyeTarget', \n",
    "                          'start_station_X', 'start_station_Y', 'end_station_X', 'end_station_Y',\n",
    "                          'distance_from_start_station_X',\n",
    "                            'distance_from_start_station_Y', 'distance_from_end_station_X',\n",
    "                            'distance_from_end_station_Y', 'facing_start_station',\n",
    "                            'facing_end_station', \n",
    "                            'rolling_avg', \n",
    "                            \n",
    "                          \n",
    "                          ]:\n",
    "        df = df.drop(columns=[drop_column], errors='ignore')\n",
    "\n",
    "    target_columns = ['User_X', 'User_Y']\n",
    "    # Reorder columns\n",
    "    new_columns = target_columns + [col for col in df.columns if col not in target_columns]\n",
    "    df = df[new_columns]\n",
    "    \n",
    "    # keep numeric columns\n",
    "    df = df.apply(pd.to_numeric, errors='ignore')\n",
    "\n",
    "    return df\n",
    "\n",
    "for file in os.listdir(dir):\n",
    "    if file.endswith('.pkl'):\n",
    "        df = process_data(dir+file)\n",
    "        ds.read_data(df)\n"
   ]
  },
  {
   "cell_type": "markdown",
   "metadata": {},
   "source": [
    "### Optional: shuffle the dataset"
   ]
  },
  {
   "cell_type": "code",
   "execution_count": 3,
   "metadata": {},
   "outputs": [],
   "source": [
    "# import random\n",
    "# random.shuffle(ds.dataset)"
   ]
  },
  {
   "cell_type": "code",
   "execution_count": null,
   "metadata": {
    "metadata": {}
   },
   "outputs": [
    {
     "name": "stdout",
     "output_type": "stream",
     "text": [
      "columns : Index(['User_X', 'User_Y', 'AGV_distance_X', 'AGV_distance_Y', 'AGV_speed_X',\n",
      "       'AGV_speed_Y', 'AGV_speed', 'User_speed_X', 'User_speed_Y',\n",
      "       'User_speed', 'User_velocity_X', 'User_velocity_Y', 'Wait_time',\n",
      "       'intent_to_cross', 'Gazing_station', 'possible_interaction',\n",
      "       'facing_along_sidewalk', 'facing_to_road', 'On_sidewalks', 'On_road',\n",
      "       'closest_station', 'distance_to_closest_station',\n",
      "       'distance_to_closest_station_X', 'distance_to_closest_station_Y',\n",
      "       'looking_at_AGV', 'GazeDirection_X', 'GazeDirection_Y',\n",
      "       'GazeDirection_Z', 'AGV_X', 'AGV_Y', 'AGV_name',\n",
      "       'looking_at_closest_station'],\n",
      "      dtype='object') \n",
      "feature_dim : 31\n"
     ]
    }
   ],
   "source": [
    "stats_dict = {'mean': 0, 'std': 0, 'min': 0, 'max': 0}\n",
    "stats_dict = ds.normalize_dataset()\n",
    "ds.generate_data(future_steps=future_steps)\n",
    "\n",
    "train:torch.utils.data.DataLoader\n",
    "test:torch.utils.data.DataLoader\n",
    "\n",
    "train, test = ds.split_data(frac=0.9, shuffle=True, train_batch_size=train_batch_size, test_batch_size=test_batch_size)\n",
    "\n",
    "feature_dim = ds.feature_dim\n",
    "columns = [_ for _ in ds.columns if _ not in ['AGV_name']]\n",
    "print(f\"columns : {df.columns} \\nfeature_dim : {feature_dim}\")"
   ]
  },
  {
   "cell_type": "markdown",
   "metadata": {},
   "source": [
    "['User_X', 'User_Y', 'AGV_distance_X', 'AGV_distance_Y', 'AGV_speed_X',\n",
    "       'AGV_speed_Y', 'AGV_speed', 'User_speed_X', 'User_speed_Y',\n",
    "       'User_speed', 'User_velocity_X', 'User_velocity_Y', 'Wait_time',\n",
    "       'intent_to_cross', 'Gazing_station', 'possible_interaction',\n",
    "       'facing_along_sidewalk', 'facing_to_road', 'On_sidewalks', 'On_road',\n",
    "       'closest_station', 'distance_to_closest_station',\n",
    "       'distance_to_closest_station_X', 'distance_to_closest_station_Y',\n",
    "       'looking_at_AGV', 'GazeDirection_X', 'GazeDirection_Y',\n",
    "       'GazeDirection_Z', 'AGV_X', 'AGV_Y', 'looking_at_closest_station']"
   ]
  },
  {
   "cell_type": "code",
   "execution_count": 7,
   "metadata": {
    "metadata": {}
   },
   "outputs": [
    {
     "name": "stdout",
     "output_type": "stream",
     "text": [
      "torch.Size([16, 30, 31]) torch.Size([16, 40, 31])\n",
      "4127 115\n"
     ]
    }
   ],
   "source": [
    "for i, (X, y) in enumerate(train):\n",
    "    print(X.shape, y.shape)\n",
    "    break\n",
    "\n",
    "print(len(train), len(test))"
   ]
  },
  {
   "cell_type": "code",
   "execution_count": 8,
   "metadata": {
    "metadata": {}
   },
   "outputs": [
    {
     "name": "stdout",
     "output_type": "stream",
     "text": [
      "Using cuda\n"
     ]
    },
    {
     "data": {
      "text/plain": [
       "EnhancedTFT(\n",
       "  (vqvae): VQVAE(\n",
       "    (encoder): VQVAEEncoder(\n",
       "      (fc1): Linear(in_features=31, out_features=512, bias=True)\n",
       "      (fc2): Linear(in_features=512, out_features=128, bias=True)\n",
       "    )\n",
       "    (quantizer): VectorQuantizer(\n",
       "      (embedding): Embedding(128, 128)\n",
       "    )\n",
       "    (decoder): VQVAEDecoder(\n",
       "      (fc1): Linear(in_features=128, out_features=512, bias=True)\n",
       "      (fc2): Linear(in_features=512, out_features=31, bias=True)\n",
       "    )\n",
       "  )\n",
       "  (tft): TemporalFusionTransformer(\n",
       "    (encoder_grn): GatedResidualNetwork(\n",
       "      (layers): ModuleList(\n",
       "        (0): Linear(in_features=159, out_features=128, bias=True)\n",
       "        (1-2): 2 x Linear(in_features=128, out_features=128, bias=True)\n",
       "      )\n",
       "      (norms): ModuleList(\n",
       "        (0-2): 3 x LayerNorm((128,), eps=1e-05, elementwise_affine=True)\n",
       "      )\n",
       "      (dropout): Dropout(p=0.1, inplace=False)\n",
       "      (fc2): Linear(in_features=128, out_features=128, bias=True)\n",
       "      (fc3): Linear(in_features=159, out_features=128, bias=True)\n",
       "      (gate): Linear(in_features=128, out_features=128, bias=True)\n",
       "    )\n",
       "    (transformer_block): TransformerBlock(\n",
       "      (attention): MultiheadAttention(\n",
       "        (out_proj): NonDynamicallyQuantizableLinear(in_features=128, out_features=128, bias=True)\n",
       "      )\n",
       "      (norm1): LayerNorm((128,), eps=1e-05, elementwise_affine=True)\n",
       "      (norm2): LayerNorm((128,), eps=1e-05, elementwise_affine=True)\n",
       "      (dropout): Dropout(p=0.1, inplace=False)\n",
       "      (feed_forward): Sequential(\n",
       "        (0): Linear(in_features=128, out_features=512, bias=True)\n",
       "        (1): ReLU()\n",
       "        (2): Dropout(p=0.1, inplace=False)\n",
       "        (3): Linear(in_features=512, out_features=128, bias=True)\n",
       "      )\n",
       "    )\n",
       "    (decoder_grn): GatedResidualNetwork(\n",
       "      (layers): ModuleList(\n",
       "        (0-2): 3 x Linear(in_features=128, out_features=128, bias=True)\n",
       "      )\n",
       "      (norms): ModuleList(\n",
       "        (0-2): 3 x LayerNorm((128,), eps=1e-05, elementwise_affine=True)\n",
       "      )\n",
       "      (dropout): Dropout(p=0.1, inplace=False)\n",
       "      (fc2): Linear(in_features=128, out_features=128, bias=True)\n",
       "      (fc3): Linear(in_features=128, out_features=128, bias=True)\n",
       "      (gate): Linear(in_features=128, out_features=128, bias=True)\n",
       "    )\n",
       "    (final_linear): Linear(in_features=128, out_features=80, bias=True)\n",
       "  )\n",
       ")"
      ]
     },
     "execution_count": 8,
     "metadata": {},
     "output_type": "execute_result"
    }
   ],
   "source": [
    "device = torch.device('cuda' if torch.cuda.is_available() else 'cpu')\n",
    "print(f\"Using {device}\")\n",
    "\n",
    "# model = TemporalFusionTransformer(num_features=feature_dim, \n",
    "#                                   num_hidden=128, num_outputs=2, \n",
    "#                                   num_steps=future_steps)\n",
    "# optimizer = optim.AdamW(model.parameters(), lr=2e-4)\n",
    "# model.to(device)\n",
    "\n",
    "\n",
    "vqvae = VQVAE(input_dim=feature_dim, hidden_dim=512, num_embeddings=128, embedding_dim=128, commitment_cost=0.25)\n",
    "\n",
    "class EnhancedTFT(nn.Module):\n",
    "    def __init__(self, num_features, num_hidden, num_outputs, num_steps, vqvae:VQVAE):\n",
    "        super(EnhancedTFT, self).__init__()\n",
    "        self.vqvae = vqvae\n",
    "        self.tft = TemporalFusionTransformer(num_features + vqvae.encoder.fc2.out_features, num_hidden, num_outputs, num_steps, num_attention_heads=8)\n",
    "        self.num_outputs = num_outputs\n",
    "        self.num_steps = num_steps\n",
    "        \n",
    "    def forward(self, x, mask: Optional[torch.Tensor]=None):\n",
    "        x_recon, vq_loss, perplexity, embedding = self.vqvae(x)\n",
    "        x_enhanced = torch.cat((x, embedding), dim=-1)\n",
    "        return self.tft(x_enhanced, mask), vq_loss, perplexity\n",
    "\n",
    "model = EnhancedTFT(num_features=feature_dim, num_hidden=128, num_outputs=2, num_steps=future_steps, vqvae=vqvae)\n",
    "optimizer = optim.AdamW(model.parameters(), lr=2e-4)\n",
    "model.to(device)"
   ]
  },
  {
   "cell_type": "markdown",
   "metadata": {},
   "source": [
    "### Customized Loss Function"
   ]
  },
  {
   "cell_type": "code",
   "execution_count": 9,
   "metadata": {},
   "outputs": [],
   "source": [
    "class DecayLoss(nn.Module):\n",
    "    def __init__(self, num_steps, baseline_loss_fn=nn.L1Loss()):\n",
    "        super(DecayLoss, self).__init__()\n",
    "        # Weight decreases as we move further into the future\n",
    "        self.weights = torch.linspace(1.0, 1.0, num_steps)\n",
    "        self.baseline_loss_fn = baseline_loss_fn\n",
    "        \n",
    "\n",
    "    def forward(self, predictions, targets):\n",
    "        loss = 0\n",
    "        for i in range(predictions.shape[1]):\n",
    "            loss += self.weights[i] * self.baseline_loss_fn(predictions[:, i], targets[:, i])\n",
    "        return loss\n",
    "    \n",
    "baseline_loss_fn = nn.L1Loss() #nn.MSELoss()\n",
    "loss_fn = DecayLoss(future_steps, baseline_loss_fn=baseline_loss_fn)"
   ]
  },
  {
   "cell_type": "markdown",
   "metadata": {},
   "source": [
    "### Trainer with early stop"
   ]
  },
  {
   "cell_type": "code",
   "execution_count": 10,
   "metadata": {},
   "outputs": [
    {
     "name": "stdout",
     "output_type": "stream",
     "text": [
      "Saving model at ../model/TFT_vqvae/Nov05_22-40-59\n"
     ]
    },
    {
     "data": {
      "application/vnd.jupyter.widget-view+json": {
       "model_id": "0596325797044d408662728b057be43c",
       "version_major": 2,
       "version_minor": 0
      },
      "text/plain": [
       "  0%|          | 0/4127 [00:00<?, ?it/s]"
      ]
     },
     "metadata": {},
     "output_type": "display_data"
    },
    {
     "name": "stdout",
     "output_type": "stream",
     "text": [
      "Steps 500: test RMSE 0.8914, moving average RMSE 0.8914\n",
      "Steps 1000: test RMSE 0.7873, moving average RMSE 0.8289\n",
      "Steps 1500: test RMSE 0.7846, moving average RMSE 0.8023\n",
      "Steps 2000: test RMSE 0.7510, moving average RMSE 0.7715\n",
      "Steps 2500: test RMSE 0.7431, moving average RMSE 0.7545\n",
      "Steps 3000: test RMSE 0.7393, moving average RMSE 0.7454\n",
      "Steps 3500: test RMSE 0.7510, moving average RMSE 0.7488\n",
      "Steps 4000: test RMSE 0.7183, moving average RMSE 0.7305\n"
     ]
    },
    {
     "data": {
      "application/vnd.jupyter.widget-view+json": {
       "model_id": "3012f58a45ce4447b799d0ffe2537ca4",
       "version_major": 2,
       "version_minor": 0
      },
      "text/plain": [
       "  0%|          | 0/4127 [00:00<?, ?it/s]"
      ]
     },
     "metadata": {},
     "output_type": "display_data"
    },
    {
     "name": "stdout",
     "output_type": "stream",
     "text": [
      "Steps 4500: test RMSE 0.7238, moving average RMSE 0.7265\n",
      "Steps 5000: test RMSE 0.7587, moving average RMSE 0.7458\n",
      "Steps 5500: test RMSE 0.7320, moving average RMSE 0.7375\n",
      "Steps 6000: test RMSE 0.6960, moving average RMSE 0.7126\n",
      "Steps 6500: test RMSE 0.7341, moving average RMSE 0.7255\n",
      "Steps 7000: test RMSE 0.7036, moving average RMSE 0.7124\n",
      "Steps 7500: test RMSE 0.7029, moving average RMSE 0.7067\n",
      "Steps 8000: test RMSE 0.7173, moving average RMSE 0.7131\n"
     ]
    },
    {
     "data": {
      "application/vnd.jupyter.widget-view+json": {
       "model_id": "75b4be03c48940ec9f530ac9f8ebb218",
       "version_major": 2,
       "version_minor": 0
      },
      "text/plain": [
       "  0%|          | 0/4127 [00:00<?, ?it/s]"
      ]
     },
     "metadata": {},
     "output_type": "display_data"
    },
    {
     "name": "stdout",
     "output_type": "stream",
     "text": [
      "Steps 8500: test RMSE 0.7034, moving average RMSE 0.7072\n",
      "Steps 9000: test RMSE 0.7223, moving average RMSE 0.7163\n",
      "Steps 9500: test RMSE 0.7138, moving average RMSE 0.7148\n",
      "Model saved at ../model/TFT_vqvae/Nov05_22-40-59/model_10000.pt\n",
      "Steps 10000: test RMSE 0.6926, moving average RMSE 0.7015\n",
      "Steps 10500: test RMSE 0.6989, moving average RMSE 0.6999\n",
      "Steps 11000: test RMSE 0.7231, moving average RMSE 0.7138\n",
      "Steps 11500: test RMSE 0.7074, moving average RMSE 0.7100\n",
      "Steps 12000: test RMSE 0.6993, moving average RMSE 0.7036\n"
     ]
    },
    {
     "data": {
      "application/vnd.jupyter.widget-view+json": {
       "model_id": "5cf4ad59a2514a0782a4ad8fa452c020",
       "version_major": 2,
       "version_minor": 0
      },
      "text/plain": [
       "  0%|          | 0/4127 [00:00<?, ?it/s]"
      ]
     },
     "metadata": {},
     "output_type": "display_data"
    },
    {
     "name": "stdout",
     "output_type": "stream",
     "text": [
      "Steps 12500: test RMSE 0.6938, moving average RMSE 0.6977\n",
      "Steps 13000: test RMSE 0.7143, moving average RMSE 0.7076\n",
      "Steps 13500: test RMSE 0.7176, moving average RMSE 0.7136\n",
      "Steps 14000: test RMSE 0.6843, moving average RMSE 0.6960\n",
      "Steps 14500: test RMSE 0.7159, moving average RMSE 0.7079\n",
      "Steps 15000: test RMSE 0.7137, moving average RMSE 0.7114\n",
      "Steps 15500: test RMSE 0.6957, moving average RMSE 0.7020\n",
      "Steps 16000: test RMSE 0.7009, moving average RMSE 0.7013\n",
      "Steps 16500: test RMSE 0.7076, moving average RMSE 0.7051\n"
     ]
    },
    {
     "data": {
      "application/vnd.jupyter.widget-view+json": {
       "model_id": "3d6b429c51384b4e982e92b4eb8ff2bb",
       "version_major": 2,
       "version_minor": 0
      },
      "text/plain": [
       "  0%|          | 0/4127 [00:00<?, ?it/s]"
      ]
     },
     "metadata": {},
     "output_type": "display_data"
    },
    {
     "name": "stdout",
     "output_type": "stream",
     "text": [
      "Steps 17000: test RMSE 0.6982, moving average RMSE 0.7009\n",
      "Steps 17500: test RMSE 0.7014, moving average RMSE 0.7012\n",
      "Steps 18000: test RMSE 0.7046, moving average RMSE 0.7033\n",
      "Steps 18500: test RMSE 0.6879, moving average RMSE 0.6941\n",
      "Steps 19000: test RMSE 0.6891, moving average RMSE 0.6911\n",
      "Steps 19500: test RMSE 0.7020, moving average RMSE 0.6976\n",
      "Model saved at ../model/TFT_vqvae/Nov05_22-40-59/model_20000.pt\n",
      "Steps 20000: test RMSE 0.7120, moving average RMSE 0.7062\n",
      "Steps 20500: test RMSE 0.7157, moving average RMSE 0.7119\n"
     ]
    },
    {
     "data": {
      "application/vnd.jupyter.widget-view+json": {
       "model_id": "f227cfe322b143ccab7a32539b45dd8e",
       "version_major": 2,
       "version_minor": 0
      },
      "text/plain": [
       "  0%|          | 0/4127 [00:00<?, ?it/s]"
      ]
     },
     "metadata": {},
     "output_type": "display_data"
    },
    {
     "name": "stdout",
     "output_type": "stream",
     "text": [
      "Steps 21000: test RMSE 0.7162, moving average RMSE 0.7145\n",
      "Steps 21500: test RMSE 0.7030, moving average RMSE 0.7076\n",
      "Steps 22000: test RMSE 0.7055, moving average RMSE 0.7064\n",
      "Steps 22500: test RMSE 0.6991, moving average RMSE 0.7020\n",
      "Steps 23000: test RMSE 0.7042, moving average RMSE 0.7033\n",
      "Steps 23500: test RMSE 0.7008, moving average RMSE 0.7018\n",
      "Steps 24000: test RMSE 0.7023, moving average RMSE 0.7021\n",
      "Steps 24500: test RMSE 0.6996, moving average RMSE 0.7006\n"
     ]
    },
    {
     "data": {
      "application/vnd.jupyter.widget-view+json": {
       "model_id": "0594b981b2da4457bdaed4a6a2359024",
       "version_major": 2,
       "version_minor": 0
      },
      "text/plain": [
       "  0%|          | 0/4127 [00:00<?, ?it/s]"
      ]
     },
     "metadata": {},
     "output_type": "display_data"
    },
    {
     "name": "stdout",
     "output_type": "stream",
     "text": [
      "Steps 25000: test RMSE 0.7109, moving average RMSE 0.7068\n",
      "Stopping early at epoch 7, step 238\n",
      "Training complete.\n"
     ]
    }
   ],
   "source": [
    "# Parameters\n",
    "n_epochs = 10\n",
    "eval_step = 500\n",
    "save_every = 10000\n",
    "patience = 8  # Number of evaluations to wait for improvement\n",
    "cooldown = 4  # Evaluations to wait after an improvement before counting non-improvements\n",
    "smooth_factor = 0.6  # Smoothing factor for moving average\n",
    "\n",
    "# Setup\n",
    "train_all = len(train)\n",
    "model_name = \"TFT_vqvae\"\n",
    "loss_all = []\n",
    "best_test_rmse = float('inf')\n",
    "early_stopping_counter = 0\n",
    "cooldown_counter = cooldown\n",
    "\n",
    "now = datetime.now()\n",
    "folder_name = now.strftime(\"%b%d_%H-%M-%S\")\n",
    "os.makedirs(f'../model/{model_name}/{folder_name}', exist_ok=True)\n",
    "print(f\"Saving model at ../model/{model_name}/{folder_name}\")\n",
    "\n",
    "# Initialize moving average\n",
    "moving_avg_test_rmse = None\n",
    "\n",
    "# Training loop\n",
    "for epoch in range(n_epochs):\n",
    "    model.train()\n",
    "    for step, (X_batch, y_batch) in tqdm(enumerate(train), total=train_all):\n",
    "        X_batch = X_batch.float().to(device)\n",
    "        y_batch = y_batch.float().to(device)\n",
    "        \n",
    "        current_pos_input = X_batch[:, -1, :2].clone().unsqueeze(1).repeat(1, lookback, 1)\n",
    "        current_pos_output = X_batch[:, -1, :2].clone().unsqueeze(1).repeat(1, future_steps, 1)\n",
    "        X_batch[:, :, :2] = X_batch[:, :, :2] - current_pos_input\n",
    "        y_batch[:, :, :2] = y_batch[:, :, :2] - current_pos_output\n",
    "        optimizer.zero_grad()\n",
    "        \n",
    "        y_pred, vq_loss, perplexity = model(X_batch)\n",
    "        loss = loss_fn(y_pred[:, :future_steps, :2], y_batch[:, :future_steps, :2])\n",
    "        loss_all.append(loss.item())\n",
    "        \n",
    "        # add vq_loss\n",
    "        loss += 10 * vq_loss\n",
    "        loss.backward()\n",
    "        torch.nn.utils.clip_grad_norm_(model.parameters(), max_norm=1.0)\n",
    "        optimizer.step()\n",
    "        \n",
    "        # Save model\n",
    "        if (epoch * train_all + step + 1) % save_every == 0:\n",
    "            save_path = f\"../model/{model_name}/{folder_name}/model_{epoch * train_all + step + 1}.pt\"\n",
    "            torch.save(model.state_dict(), save_path)\n",
    "            print(f\"Model saved at {save_path}\")\n",
    "\n",
    "        # Validation and early stopping\n",
    "        if (epoch * train_all + step + 1) % eval_step == 0:\n",
    "            model.eval()\n",
    "            test_rmse_all = []\n",
    "            with torch.no_grad():\n",
    "                for X_test_batch, y_test_batch in test:\n",
    "                    X_test_batch = X_test_batch.float().to(device)\n",
    "                    y_test_batch = y_test_batch.float().to(device)\n",
    "                    \n",
    "                    current_pos_input = X_test_batch[:, -1, :2].clone().unsqueeze(1).repeat(1, lookback, 1)\n",
    "                    current_pos_output = X_test_batch[:, -1, :2].clone().unsqueeze(1).repeat(1, future_steps, 1)\n",
    "                    X_test_batch[:, :, :2] = X_test_batch[:, :, :2] - current_pos_input\n",
    "                    y_test_batch[:, :, :2] = y_test_batch[:, :, :2] - current_pos_output\n",
    "                    \n",
    "                    y_pred_test, vq_loss, perplexity = model(X_test_batch)\n",
    "                    loss_test = loss_fn(y_pred_test[:, :future_steps, :2], y_test_batch[:, :future_steps, :2])\n",
    "                    test_rmse = torch.sqrt(loss_test)\n",
    "                    if not torch.isnan(test_rmse):\n",
    "                        test_rmse_all.append(test_rmse.item())\n",
    "            \n",
    "            current_rmse = sum(test_rmse_all) / len(test_rmse_all)\n",
    "            if moving_avg_test_rmse is None:\n",
    "                moving_avg_test_rmse = current_rmse\n",
    "            else:\n",
    "                moving_avg_test_rmse = smooth_factor * current_rmse + (1 - smooth_factor) * moving_avg_test_rmse\n",
    "\n",
    "            print(f\"Steps {epoch * train_all + step + 1}: test RMSE {current_rmse:.4f}, moving average RMSE {moving_avg_test_rmse:.4f}\")\n",
    "\n",
    "            # Check if the moving average RMSE is better; if not, increment counter\n",
    "            if moving_avg_test_rmse < best_test_rmse:\n",
    "                best_test_rmse = moving_avg_test_rmse\n",
    "                early_stopping_counter = 0  # Reset counter\n",
    "                cooldown_counter = cooldown  # Reset cooldown\n",
    "                # Optionally save the best model\n",
    "                best_model_path = f\"../model/{model_name}/{folder_name}/best_model.pt\"\n",
    "                torch.save(model.state_dict(), best_model_path)\n",
    "            else:\n",
    "                if cooldown_counter > 0:\n",
    "                    cooldown_counter -= 1\n",
    "                else:\n",
    "                    early_stopping_counter += 1\n",
    "\n",
    "            if early_stopping_counter >= patience:\n",
    "                print(f\"Stopping early at epoch {epoch+1}, step {step+1}\")\n",
    "                break\n",
    "\n",
    "            model.train()\n",
    "        \n",
    "    if early_stopping_counter >= patience:\n",
    "        break\n",
    "\n",
    "print(\"Training complete.\")"
   ]
  },
  {
   "cell_type": "code",
   "execution_count": 11,
   "metadata": {},
   "outputs": [
    {
     "data": {
      "application/vnd.jupyter.widget-view+json": {
       "model_id": "985e839433254870b6a84fb4eb67a912",
       "version_major": 2,
       "version_minor": 0
      },
      "text/plain": [
       "  0%|          | 0/115 [00:00<?, ?it/s]"
      ]
     },
     "metadata": {},
     "output_type": "display_data"
    }
   ],
   "source": [
    "validation_step = future_steps\n",
    "\n",
    "predictions = []\n",
    "truths = []\n",
    "\n",
    "with torch.no_grad():\n",
    "    model.eval()\n",
    "    all_test = len(test)\n",
    "    test_rmse_all = []\n",
    "    for X_test_batch, y_test_batch in tqdm(test):\n",
    "        X_test_batch = X_test_batch.float().to(device)\n",
    "        y_test_batch = y_test_batch.float().to(device)\n",
    "        \n",
    "        current_pos_input = X_test_batch[:, -1, :2].clone().unsqueeze(1).repeat(1, lookback, 1)\n",
    "        current_pos_output = X_test_batch[:, -1, :2].clone().unsqueeze(1).repeat(1, future_steps, 1)\n",
    "        X_test_batch[:, :, :2] = X_test_batch[:, :, :2] - current_pos_input\n",
    "        y_test_batch[:, :, :2] = y_test_batch[:, :, :2] - current_pos_output\n",
    "        \n",
    "        y_pred, vq_loss, perplexity = model(X_test_batch)\n",
    "        predictions.append(y_pred[:, :validation_step, :2] + current_pos_output)\n",
    "        truths.append(y_test_batch[:, :validation_step, :2] + current_pos_output)\n",
    "        \n",
    "predictions = torch.cat(predictions, dim=0)\n",
    "truths = torch.cat(truths, dim=0)"
   ]
  },
  {
   "cell_type": "code",
   "execution_count": 13,
   "metadata": {},
   "outputs": [],
   "source": [
    "# reverse normalization\n",
    "normalize_dict = stats_dict\n",
    "\n",
    "for idx, key_ in enumerate([\"User_X\", \"User_Y\"]):\n",
    "    predictions[:, :, idx] = predictions[:, :, idx] * (normalize_dict['max'][key_] - normalize_dict['min'][key_]) + normalize_dict['min'][key_]\n",
    "    predictions[:, :, idx] = predictions[:, :, idx] * normalize_dict['std'][key_] + normalize_dict['mean'][key_]\n",
    "    truths[:, :, idx] = truths[:, :, idx] * (normalize_dict['max'][key_] - normalize_dict['min'][key_]) + normalize_dict['min'][key_]\n",
    "    truths[:, :, idx] = truths[:, :, idx] * normalize_dict['std'][key_] + normalize_dict['mean'][key_]"
   ]
  },
  {
   "cell_type": "code",
   "execution_count": 14,
   "metadata": {},
   "outputs": [
    {
     "data": {
      "image/png": "[encoded data removed]",
      "text/plain": [
       "<Figure size 640x480 with 1 Axes>"
      ]
     },
     "metadata": {},
     "output_type": "display_data"
    }
   ],
   "source": [
    "criterion = nn.MSELoss(reduction=\"none\")\n",
    "\n",
    "steps = []\n",
    "loss = []\n",
    "max_loss = []\n",
    "for step in range(1, future_steps+1):\n",
    "    raw_rmse_loss = criterion(predictions[:, :step, :], truths[:, :step, :])\n",
    "    raw_rmse_loss = torch.sqrt(torch.sum(raw_rmse_loss, dim=-1))\n",
    "    mean_rmse_loss = raw_rmse_loss.mean(dim=-1)\n",
    "    max_rmse_loss = raw_rmse_loss.max(dim=-1).values\n",
    "    loss.append(mean_rmse_loss)\n",
    "    max_loss.append(max_rmse_loss)\n",
    "    steps.extend([step] * len(mean_rmse_loss))\n",
    "    \n",
    "max_loss = torch.cat(max_loss).cpu().numpy()\n",
    "loss = torch.cat(loss).cpu().numpy()\n",
    "\n",
    "df = pd.DataFrame({'Second (s)': steps, 'loss': loss})\n",
    "df1 = pd.DataFrame({'Second (s)': steps, 'loss': max_loss})\n",
    "df['type'] = 'mean'\n",
    "df1['type'] = 'max'\n",
    "df = pd.concat([df, df1])\n",
    "\n",
    "\n",
    "df['RMSE Error (m)'] = df['loss'] / 100 # to meters\n",
    "df['Second (s)'] = df['Second (s)'] / 10 # to seconds\n",
    "sns.lineplot(data = df, x='Second (s)', y='RMSE Error (m)', hue='type',) #  errorbar=('sd', 1),\n",
    "# plt.savefig('../figure/TFT_manual_shuffle_relative_vqvae.png')\n",
    "plt.show()"
   ]
  },
  {
   "cell_type": "code",
   "execution_count": 15,
   "metadata": {},
   "outputs": [
    {
     "data": {
      "text/html": [
       "<div>\n",
       "<style scoped>\n",
       "    .dataframe tbody tr th:only-of-type {\n",
       "        vertical-align: middle;\n",
       "    }\n",
       "\n",
       "    .dataframe tbody tr th {\n",
       "        vertical-align: top;\n",
       "    }\n",
       "\n",
       "    .dataframe thead th {\n",
       "        text-align: right;\n",
       "    }\n",
       "</style>\n",
       "<table border=\"1\" class=\"dataframe\">\n",
       "  <thead>\n",
       "    <tr style=\"text-align: right;\">\n",
       "      <th>type</th>\n",
       "      <th>max</th>\n",
       "      <th>mean</th>\n",
       "    </tr>\n",
       "    <tr>\n",
       "      <th>Second (s)</th>\n",
       "      <th></th>\n",
       "      <th></th>\n",
       "    </tr>\n",
       "  </thead>\n",
       "  <tbody>\n",
       "    <tr>\n",
       "      <th>3.1</th>\n",
       "      <td>1.739983</td>\n",
       "      <td>0.886768</td>\n",
       "    </tr>\n",
       "    <tr>\n",
       "      <th>3.2</th>\n",
       "      <td>1.812136</td>\n",
       "      <td>0.911587</td>\n",
       "    </tr>\n",
       "    <tr>\n",
       "      <th>3.3</th>\n",
       "      <td>1.856260</td>\n",
       "      <td>0.936100</td>\n",
       "    </tr>\n",
       "    <tr>\n",
       "      <th>3.4</th>\n",
       "      <td>1.928323</td>\n",
       "      <td>0.961003</td>\n",
       "    </tr>\n",
       "    <tr>\n",
       "      <th>3.5</th>\n",
       "      <td>1.972462</td>\n",
       "      <td>0.984790</td>\n",
       "    </tr>\n",
       "    <tr>\n",
       "      <th>3.6</th>\n",
       "      <td>2.035800</td>\n",
       "      <td>1.008675</td>\n",
       "    </tr>\n",
       "    <tr>\n",
       "      <th>3.7</th>\n",
       "      <td>2.085425</td>\n",
       "      <td>1.032703</td>\n",
       "    </tr>\n",
       "    <tr>\n",
       "      <th>3.8</th>\n",
       "      <td>2.128251</td>\n",
       "      <td>1.056612</td>\n",
       "    </tr>\n",
       "    <tr>\n",
       "      <th>3.9</th>\n",
       "      <td>2.187012</td>\n",
       "      <td>1.081247</td>\n",
       "    </tr>\n",
       "    <tr>\n",
       "      <th>4.0</th>\n",
       "      <td>2.240206</td>\n",
       "      <td>1.105821</td>\n",
       "    </tr>\n",
       "  </tbody>\n",
       "</table>\n",
       "</div>"
      ],
      "text/plain": [
       "type             max      mean\n",
       "Second (s)                    \n",
       "3.1         1.739983  0.886768\n",
       "3.2         1.812136  0.911587\n",
       "3.3         1.856260  0.936100\n",
       "3.4         1.928323  0.961003\n",
       "3.5         1.972462  0.984790\n",
       "3.6         2.035800  1.008675\n",
       "3.7         2.085425  1.032703\n",
       "3.8         2.128251  1.056612\n",
       "3.9         2.187012  1.081247\n",
       "4.0         2.240206  1.105821"
      ]
     },
     "execution_count": 15,
     "metadata": {},
     "output_type": "execute_result"
    }
   ],
   "source": [
    "exp_results = df.groupby(by=['Second (s)', 'type']).mean().unstack()['RMSE Error (m)']\n",
    "exp_results.to_csv(f'../model/{model_name}/{folder_name}/result.csv')\n",
    "exp_results.tail(10)"
   ]
  },
  {
   "cell_type": "markdown",
   "metadata": {},
   "source": [
    "### Export JIT Model\n",
    "\n",
    "Integrate partial of data processing into the model"
   ]
  },
  {
   "cell_type": "code",
   "execution_count": 25,
   "metadata": {},
   "outputs": [
    {
     "name": "stdout",
     "output_type": "stream",
     "text": [
      "Input shape: torch.Size([1, 30, 31])\n"
     ]
    }
   ],
   "source": [
    "# EXPORT_MODEL = True\n",
    "\n",
    "# # model.load_state_dict(torch.load(\"/home/shaoze/Documents/Boeing/Boeing-Trajectory-Prediction/model/Jul09_20-37-37/model_40000.pt\"))\n",
    "# if EXPORT_MODEL:\n",
    "#     model.eval()\n",
    "#     model.to('cpu')\n",
    "#     script_module = torch.jit.script(model)\n",
    "#     os.makedirs(f'../model/exported/', exist_ok=True)\n",
    "#     script_module.save(\"../exported/model_tft_vqvae_cpu.pt\")\n",
    "\n",
    "stats = {}\n",
    "'''\n",
    "mean: tensor[]\n",
    "'''\n",
    "\n",
    "for keys, values in stats_dict.items():\n",
    "    stats[keys] = torch.tensor(values.to_list()).view(1,1,-1)\n",
    "    \n",
    "class TFT_EXP(nn.Module):\n",
    "    def __init__(self, model:EnhancedTFT, stats:dict):\n",
    "        super(TFT_EXP, self).__init__()\n",
    "        self.stats = stats\n",
    "        self.register_buffer('mean', self.stats['mean'])\n",
    "        self.register_buffer('std', self.stats['std'])\n",
    "        self.register_buffer('min', self.stats['min'])\n",
    "        self.register_buffer('max', self.stats['max'])\n",
    "        self.TFT = model\n",
    "        self.num_steps = model.num_steps\n",
    "        self.num_outputs = model.num_outputs # =2\n",
    "\n",
    "    def forward(self, x, mask: Optional[torch.Tensor]=None):\n",
    "        single = False\n",
    "        if len(x.shape) == 2:\n",
    "            x = x.unsqueeze(0)\n",
    "            single = True\n",
    "        \n",
    "        # normalize\n",
    "        x = (x - self.mean) / self.std\n",
    "        x = (x - self.min) / (self.max - self.min)\n",
    "        # residual\n",
    "        current_pos_input = x[:, -1, :2].clone().unsqueeze(1).repeat(1, x.shape[1], 1)\n",
    "        current_pos_output = x[:, -1, :2].clone().unsqueeze(1).repeat(1, self.num_steps, 1)\n",
    "        x[:, :, :2] = x[:, :, :2] - current_pos_input\n",
    "        \n",
    "        # pass through TFT\n",
    "        outputs, vq_loss, perplexity = self.TFT(x, mask)\n",
    "        outputs = outputs.detach()\n",
    "        \n",
    "        # de-residual\n",
    "        outputs[:, :, :2] = outputs[:, :, :2] + current_pos_output\n",
    "        \n",
    "        # denormalize\n",
    "        outputs = outputs * (self.max[:,:,:self.num_outputs] - self.min[:,:,:self.num_outputs]) + self.min[:,:,:self.num_outputs]\n",
    "        outputs = outputs * self.std[:,:,:self.num_outputs] + self.mean[:,:,:self.num_outputs]\n",
    "        \n",
    "        if single:\n",
    "            outputs = outputs.squeeze(0)\n",
    "        return outputs\n",
    "\n",
    "tft_exp = TFT_EXP(model, stats)\n",
    "tft_exp.to('cpu')\n",
    "tft_exp.eval()\n",
    "# script_module = torch.jit.script(tft_exp)\n",
    "# os.makedirs(f'../model/exported/', exist_ok=True)\n",
    "# script_module.save(\"../exported/model_tft_vqvae_cpu_preproc.pt\")\n",
    "\n",
    "# export to onnx\n",
    "\n",
    "dummy_input = torch.randn(1, lookback, feature_dim)\n",
    "print(f\"Input shape: {dummy_input.shape}\")\n",
    "\n",
    "# Export the wrapped model to ONNX format\n",
    "torch.onnx.export(\n",
    "    model,                   # Wrapped model to export\n",
    "    dummy_input,                     # Model input\n",
    "    \"../exported/tft_1105.onnx\",              # Output file name\n",
    "    export_params=False,              # Store the trained parameter weights inside the model file\n",
    "    opset_version=13,                # Set the ONNX opset version (adjust as needed)\n",
    "    do_constant_folding=True,        # Whether to execute constant folding for optimization\n",
    "    input_names=['input'],           # The model's input names\n",
    "    output_names=['output'],         # The model's output names\n",
    "    # dynamic_axes={\n",
    "    #     'input': {0: 'batch_size'},  # Dynamic batch_size and sequence_length\n",
    "    #     'output': {0: 'batch_size'}  # Dynamic batch_size for the output\n",
    "    # }\n",
    ")\n",
    "        "
   ]
  },
  {
   "cell_type": "markdown",
   "metadata": {},
   "source": [
    "### Save data (for interactive visualization)"
   ]
  },
  {
   "cell_type": "code",
   "execution_count": 10,
   "metadata": {},
   "outputs": [],
   "source": [
    "model = torch.jit.load(\"../exported/model_tft_vqvae_cpu.pt\")\n",
    "\n",
    "test_ds = MyDataset(lookback=lookback)\n",
    "all_ds = ds.dataset\n",
    "test_ds.dataset = all_ds[len(all_ds)//10 :] # load the last 10% of the data\n",
    "X_list, y_list = test_ds.generate_data(return_list=True, future_steps=future_steps)\n"
   ]
  },
  {
   "cell_type": "code",
   "execution_count": null,
   "metadata": {},
   "outputs": [],
   "source": [
    "from torch.utils.data import DataLoader, Dataset, TensorDataset\n",
    "\n",
    "normalize_dict = stats_dict\n",
    "pred_data = []\n",
    "truth_data = []\n",
    "input_data = []\n",
    "model.eval()\n",
    "device = 'cpu'\n",
    "for i, (X, y) in enumerate(zip(X_list, y_list)):\n",
    "    current_pos_input = X[:, -1, :2].clone().unsqueeze(1).repeat(1, lookback, 1)\n",
    "    current_pos_output = X[:, -1, :2].clone().unsqueeze(1).repeat(1, future_steps, 1).to(device)\n",
    "    X[:, :, :2] = X[:, :, :2] - current_pos_input\n",
    "\n",
    "    predictions = model(X.float().to(device))[0][:, :future_steps, :2]\n",
    "    predictions = predictions + current_pos_output\n",
    "    predictions = predictions.to('cpu')\n",
    "    \n",
    "    truths = y[:, :future_steps, :2]\n",
    "    X[:, :, :2] = X[:, :, :2] + current_pos_input\n",
    "    model_input = X.float().to(device)[:, :lookback, :2]\n",
    "    trajectory_id = i\n",
    "    \n",
    "    # reverse normalization\n",
    "    for idx, key_ in enumerate([\"User_X\", \"User_Y\"]):\n",
    "        predictions[:, :, idx] = predictions[:, :, idx] * (normalize_dict['max'][key_] - normalize_dict['min'][key_]) + normalize_dict['min'][key_]\n",
    "        predictions[:, :, idx] = predictions[:, :, idx] * normalize_dict['std'][key_] + normalize_dict['mean'][key_]\n",
    "        truths[:, :, idx] = truths[:, :, idx] * (normalize_dict['max'][key_] - normalize_dict['min'][key_]) + normalize_dict['min'][key_]\n",
    "        truths[:, :, idx] = truths[:, :, idx] * normalize_dict['std'][key_] + normalize_dict['mean'][key_]\n",
    "        model_input[:, :, idx] = model_input[:, :, idx] * (normalize_dict['max'][key_] - normalize_dict['min'][key_]) + normalize_dict['min'][key_]\n",
    "        model_input[:, :, idx] = model_input[:, :, idx] * normalize_dict['std'][key_] + normalize_dict['mean'][key_]\n",
    "    \n",
    "    for group_id in range(predictions.shape[0]):\n",
    "        for time_step in range(predictions.shape[1]):\n",
    "            pred_x, pred_y = predictions[group_id, time_step]\n",
    "            pred_data.append([trajectory_id, group_id, time_step, pred_x.item(), pred_y.item()])\n",
    "\n",
    "            truth_x, truth_y = truths[group_id, time_step]\n",
    "            truth_data.append([trajectory_id, group_id, time_step, truth_x.item(), truth_y.item()])\n",
    "        \n",
    "        for time_step in range(lookback):\n",
    "            input_x, input_y = model_input[group_id, time_step]\n",
    "            input_data.append([trajectory_id, group_id, time_step, input_x.item(), input_y.item()])\n",
    "            \n",
    "\n",
    "pred_df = pd.DataFrame(pred_data, columns=['trajectory_id', 'Group_ID', 'Time_Step', 'X', 'Y'])\n",
    "truth_df = pd.DataFrame(truth_data, columns=['trajectory_id', 'Group_ID', 'Time_Step', 'X', 'Y'])\n",
    "input_df = pd.DataFrame(input_data, columns=['trajectory_id', 'Group_ID', 'Time_Step', 'X', 'Y'])\n"
   ]
  },
  {
   "cell_type": "code",
   "execution_count": 124,
   "metadata": {},
   "outputs": [],
   "source": [
    "files_to_remove = [\n",
    "    \"../data/pred_tra_all.pkl\",\n",
    "    \"../data/truth_tra_all.pkl\", \n",
    "    \"../data/input_tra_all.pkl\"\n",
    "]\n",
    "\n",
    "for file_path in files_to_remove:\n",
    "    if os.path.exists(file_path):\n",
    "        os.remove(file_path)\n",
    "\n",
    "truth_df.to_pickle(\"../data/truth_tra_all.pkl\")\n",
    "pred_df.to_pickle(\"../data/pred_tra_all.pkl\")\n",
    "input_df.to_pickle(\"../data/input_tra_all.pkl\")"
   ]
  }
 ],
 "metadata": {
  "kernelspec": {
   "display_name": "base",
   "language": "python",
   "name": "python3"
  },
  "language_info": {
   "codemirror_mode": {
    "name": "ipython",
    "version": 3
   },
   "file_extension": ".py",
   "mimetype": "text/x-python",
   "name": "python",
   "nbconvert_exporter": "python",
   "pygments_lexer": "ipython3",
   "version": "3.10.14"
  }
 },
 "nbformat": 4,
 "nbformat_minor": 2
}
