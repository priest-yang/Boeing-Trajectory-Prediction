{
 "cells": [
  {
   "cell_type": "code",
   "execution_count": 1,
   "metadata": {},
   "outputs": [],
   "source": [
    "import numpy as np\n",
    "import pandas as pd\n",
    "\n",
    "import os\n",
    "import sys\n",
    "cur_dir = os.path.dirname(os.path.abspath(\"__file__\"))  # Gets the current notebook directory\n",
    "src_dir = os.path.join(cur_dir, '../src')  # Constructs the path to the 'src' directory\n",
    "proj_dir = os.path.join(cur_dir, '..')  # Constructs the path to the project directory\n",
    "# Add the 'src' directory to sys.path\n",
    "sys.path.append(src_dir)\n",
    "sys.path.append(proj_dir)\n",
    "\n",
    "from src.FeatureGenerator import FeatureGenerator"
   ]
  },
  {
   "cell_type": "code",
   "execution_count": 2,
   "metadata": {},
   "outputs": [
    {
     "name": "stderr",
     "output_type": "stream",
     "text": [
      "100%|██████████| 61/61 [03:00<00:00,  2.96s/it]\n"
     ]
    },
    {
     "name": "stdout",
     "output_type": "stream",
     "text": [
      "Resampling data from 69.36970684039088 to 10\n",
      "Resampling data from 70.34317862165963 to 10\n",
      "Resampling data from 69.70349907918968 to 10\n",
      "Resampling data from 69.29752066115702 to 10\n",
      "Resampling data from 67.49743589743589 to 10\n",
      "Resampling data from 65.75266903914591 to 10\n",
      "Resampling data from 69.33974358974359 to 10\n",
      "Resampling data from 68.57705479452055 to 10\n",
      "Resampling data from 66.53472222222223 to 10\n",
      "Unrecognized file format: .DS_Store\n",
      "Resampling data from 69.67034990791898 to 10\n",
      "Resampling data from 70.21420118343195 to 10\n",
      "Resampling data from 70.43107221006565 to 10\n",
      "Resampling data from 70.28695652173913 to 10\n",
      "Resampling data from 68.67611336032388 to 10\n",
      "Resampling data from 70.29431072210066 to 10\n",
      "Resampling data from 69.7831715210356 to 10\n",
      "Resampling data from 69.5044776119403 to 10\n",
      "Resampling data from 70.14441416893733 to 10\n",
      "Resampling data from 70.04912280701754 to 10\n",
      "Resampling data from 68.21869488536156 to 10\n",
      "Resampling data from 70.65393258426967 to 10\n",
      "Resampling data from 69.4970297029703 to 10\n",
      "Resampling data from 69.62645914396887 to 10\n"
     ]
    },
    {
     "data": {
      "text/plain": [
       "'../data/PandasData/Sampled/'"
      ]
     },
     "execution_count": 2,
     "metadata": {},
     "output_type": "execute_result"
    }
   ],
   "source": [
    "raw_data_path = '../data/PandasData/Original/'\n",
    "save_data_path = '../data/PandasData/Modified/'\n",
    "sampled_data_path = '../data/PandasData/Sampled/'\n",
    "\n",
    "fg = FeatureGenerator(raw_data_path=raw_data_path, save_data_path = save_data_path, \n",
    "                      GT_only = False, to='pkl')\n",
    "\n",
    "fg.generate_features(data_aug=False, lidar_range=20, camera_range=15, FRAMERATE = 70, to = 'pkl')\n",
    "\n",
    "fg.re_sample_dir(dir = save_data_path, target_dir= sampled_data_path, target_frame_rate=10, to='csv')"
   ]
  },
  {
   "cell_type": "code",
   "execution_count": null,
   "metadata": {},
   "outputs": [],
   "source": []
  }
 ],
 "metadata": {
  "kernelspec": {
   "display_name": "Python 3 (ipykernel)",
   "language": "python",
   "name": "python3"
  },
  "language_info": {
   "codemirror_mode": {
    "name": "ipython",
    "version": 3
   },
   "file_extension": ".py",
   "mimetype": "text/x-python",
   "name": "python",
   "nbconvert_exporter": "python",
   "pygments_lexer": "ipython3",
   "version": "3.12.3"
  }
 },
 "nbformat": 4,
 "nbformat_minor": 4
}
