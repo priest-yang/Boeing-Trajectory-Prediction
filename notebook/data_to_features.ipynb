{
 "cells": [
  {
   "cell_type": "code",
   "execution_count": 1,
   "metadata": {},
   "outputs": [],
   "source": [
    "import numpy as np\n",
    "import pandas as pd\n",
    "\n",
    "import os\n",
    "import sys\n",
    "cur_dir = os.path.dirname(os.path.abspath(\"__file__\"))  # Gets the current notebook directory\n",
    "src_dir = os.path.join(cur_dir, '../src')  # Constructs the path to the 'src' directory\n",
    "proj_dir = os.path.join(cur_dir, '..')  # Constructs the path to the project directory\n",
    "# Add the 'src' directory to sys.path\n",
    "sys.path.append(src_dir)\n",
    "sys.path.append(proj_dir)\n",
    "\n",
    "from src.FeatureGenerator import FeatureGenerator"
   ]
  },
  {
   "cell_type": "code",
   "execution_count": 2,
   "metadata": {},
   "outputs": [
    {
     "name": "stderr",
     "output_type": "stream",
     "text": [
      "100%|██████████| 61/61 [03:04<00:00,  3.03s/it]"
     ]
    },
    {
     "name": "stdout",
     "output_type": "stream",
     "text": [
      "Resampling data from 68.0053050397878 to 10\n",
      "Resampling data from 68.65148063781321 to 10\n",
      "Resampling data from 67.68904593639576 to 10\n",
      "Resampling data from 67.62300319488818 to 10\n",
      "Resampling data from 64.70180722891567 to 10\n",
      "Resampling data from 59.52434456928839 to 10\n",
      "Resampling data from 68.07584269662921 to 10\n",
      "Resampling data from 66.88059701492537 to 10\n",
      "Resampling data from 63.63315217391305 to 10\n",
      "Unrecognized file format: .DS_Store\n",
      "Resampling data from 68.3188854489164 to 10\n",
      "Resampling data from 69.05422993492408 to 10\n",
      "Resampling data from 70.2608 to 10\n",
      "Resampling data from 69.21864951768488 to 10\n",
      "Resampling data from 66.88095238095238 to 10\n",
      "Resampling data from 69.71979865771812 to 10\n",
      "Resampling data from 67.92857142857143 to 10\n",
      "Resampling data from 67.62101910828025 to 10\n",
      "Resampling data from 69.30424528301887 to 10\n",
      "Resampling data from 69.00380952380952 to 10\n",
      "Resampling data from 66.27339901477832 to 10\n",
      "Resampling data from 69.20689655172414 to 10\n",
      "Resampling data from 67.99672131147541 to 10\n",
      "Resampling data from 68.16610169491526 to 10\n"
     ]
    },
    {
     "name": "stderr",
     "output_type": "stream",
     "text": [
      "\n"
     ]
    },
    {
     "data": {
      "text/plain": [
       "'../data/PandasData/Sampled/'"
      ]
     },
     "execution_count": 2,
     "metadata": {},
     "output_type": "execute_result"
    }
   ],
   "source": [
    "raw_data_path = '../data/PandasData/Original/'\n",
    "save_data_path = '../data/PandasData/Modified/'\n",
    "sampled_data_path = '../data/PandasData/Sampled/'\n",
    "\n",
    "fg = FeatureGenerator(raw_data_path=raw_data_path, save_data_path = save_data_path, \n",
    "                      GT_only = False, to='pkl')\n",
    "\n",
    "fg.generate_features(data_aug=False, lidar_range=20, camera_range=15, FRAMERATE = 70, to = 'pkl')\n",
    "\n",
    "fg.re_sample_dir(dir = save_data_path, target_dir= sampled_data_path, target_frame_rate=10, to='pkl')"
   ]
  },
  {
   "cell_type": "code",
   "execution_count": null,
   "metadata": {},
   "outputs": [],
   "source": []
  }
 ],
 "metadata": {
  "kernelspec": {
   "display_name": "base",
   "language": "python",
   "name": "python3"
  },
  "language_info": {
   "codemirror_mode": {
    "name": "ipython",
    "version": 3
   },
   "file_extension": ".py",
   "mimetype": "text/x-python",
   "name": "python",
   "nbconvert_exporter": "python",
   "pygments_lexer": "ipython3",
   "version": "3.11.7"
  }
 },
 "nbformat": 4,
 "nbformat_minor": 2
}
