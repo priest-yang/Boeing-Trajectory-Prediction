{
 "cells": [
  {
   "cell_type": "code",
   "execution_count": 1,
   "metadata": {},
   "outputs": [],
   "source": [
    "import numpy as np\n",
    "import pandas as pd\n",
    "\n",
    "import os\n",
    "import sys\n",
    "cur_dir = os.path.dirname(os.path.abspath(\"__file__\"))  # Gets the current notebook directory\n",
    "src_dir = os.path.join(cur_dir, '../src')  # Constructs the path to the 'src' directory\n",
    "proj_dir = os.path.join(cur_dir, '..')  # Constructs the path to the project directory\n",
    "# Add the 'src' directory to sys.path\n",
    "sys.path.append(src_dir)\n",
    "sys.path.append(proj_dir)\n",
    "\n",
    "from src import FeatureGenerator"
   ]
  },
  {
   "cell_type": "code",
   "execution_count": 2,
   "metadata": {},
   "outputs": [
    {
     "name": "stderr",
     "output_type": "stream",
     "text": [
      "  0%|          | 0/61 [00:00<?, ?it/s]"
     ]
    },
    {
     "name": "stderr",
     "output_type": "stream",
     "text": [
      " 44%|████▍     | 27/61 [02:24<03:10,  5.59s/it]"
     ]
    }
   ],
   "source": [
    "raw_data_path = '../data/PandasData/Original/'\n",
    "save_data_path = '../data/PandasData/Modified/'\n",
    "sampled_data_path = '../data/PandasData/Sampled/'\n",
    "\n",
    "fg = FeatureGenerator(raw_data_path=raw_data_path, save_data_path = save_data_path, \n",
    "                      GT_only = False, to='pkl')\n",
    "\n",
    "fg.generate_features(data_aug=False, lidar_range=20, camera_range=15, FRAMERATE = 70, to = 'pkl')\n",
    "\n",
    "fg.re_sample_dir(dir = save_data_path, target_dir= sampled_data_path, target_frame_rate=10, to='pkl')"
   ]
  },
  {
   "cell_type": "code",
   "execution_count": null,
   "metadata": {},
   "outputs": [],
   "source": []
  }
 ],
 "metadata": {
  "kernelspec": {
   "display_name": "base",
   "language": "python",
   "name": "python3"
  },
  "language_info": {
   "codemirror_mode": {
    "name": "ipython",
    "version": 3
   },
   "file_extension": ".py",
   "mimetype": "text/x-python",
   "name": "python",
   "nbconvert_exporter": "python",
   "pygments_lexer": "ipython3",
   "version": "3.11.5"
  }
 },
 "nbformat": 4,
 "nbformat_minor": 2
}
